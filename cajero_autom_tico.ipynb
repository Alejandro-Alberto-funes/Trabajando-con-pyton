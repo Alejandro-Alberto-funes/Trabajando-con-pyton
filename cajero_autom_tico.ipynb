{
  "nbformat": 4,
  "nbformat_minor": 0,
  "metadata": {
    "colab": {
      "provenance": [],
      "authorship_tag": "ABX9TyOSKtm+aJ/A459uwwlQlQ1L",
      "include_colab_link": true
    },
    "kernelspec": {
      "name": "python3",
      "display_name": "Python 3"
    },
    "language_info": {
      "name": "python"
    }
  },
  "cells": [
    {
      "cell_type": "markdown",
      "metadata": {
        "id": "view-in-github",
        "colab_type": "text"
      },
      "source": [
        "<a href=\"https://colab.research.google.com/github/Alejandro-Alberto-funes/Trabajando-con-pyton/blob/main/cajero_autom_tico.ipynb\" target=\"_parent\"><img src=\"https://colab.research.google.com/assets/colab-badge.svg\" alt=\"Open In Colab\"/></a>"
      ]
    },
    {
      "cell_type": "markdown",
      "source": [
        "4. Desarrolle un programa en Python que simule a un cajero automático. Haga uso de las estructuras de control. (20%)"
      ],
      "metadata": {
        "id": "kFCGgsYyvwdT"
      }
    },
    {
      "cell_type": "code",
      "execution_count": null,
      "metadata": {
        "id": "ZhvR0yFJvtUC"
      },
      "outputs": [],
      "source": [
        "monto100 = 100\n",
        "monto50 = 100\n",
        "monto20 = 100\n",
        "monto10 = 100\n",
        "monto5 = 100\n",
        "monto1 = 100\n",
        "monto025 = 100\n",
        "monto010 = 100\n",
        "monto05 = 100\n",
        "\n",
        "def sacar_dinero(cantidad):\n",
        "  global monto100, monto50, monto20, monto10, monto5,monto1,monto025,monto010,monto05\n",
        "  if cantidad <= 100 * monto100 + 50 * monto50 + 20 * monto20 + 10 * monto10 + 5 * monto5 + 1 * monto1 + 0.25 * monto025 + 0.10 * monto010 + 0.05 * monto05:\n",
        "    \n",
        "    \n",
        "    de100 = int(cantidad/100)\n",
        "    cantidad = cantidad % 100\n",
        "    if de100 >= monto100: \n",
        "        cantidad = cantidad + (de100 - monto100) * 100\n",
        "        de100 = monto100\n",
        "  \n",
        "    de50 = int(cantidad / 50)\n",
        "    cantidad = cantidad % 50\n",
        "    if de50 >= monto50:\n",
        "      cantidad = cantidad + (de50 - monto50) * 50\n",
        "      de50 = monto50\n",
        " \n",
        "    de20 = int(cantidad / 20)\n",
        "    cantidad = cantidad % 20\n",
        "    if de20 >= monto20: \n",
        "      cantidad = cantidad + (de20 - monto20) * 20\n",
        "      de20 = monto20\n",
        " \n",
        "    de10 = int(cantidad / 10)\n",
        "    cantidad = cantidad % 10\n",
        "    if de10 >= monto10: \n",
        "      cantidad = cantidad + (de10 - monto10) * 0.10\n",
        "      de10 = monto10\n",
        " \n",
        "    de5 = int(cantidad / 5)\n",
        "    cantidad = cantidad % 5\n",
        "    if de5  >= monto5: \n",
        "        cantidad = cantidad + (de5 - monto5) * 0.05\n",
        "        de5 = monto5\n",
        "\n",
        "    de1 = int(cantidad / 1)\n",
        "    cantidad = cantidad % 1\n",
        "    if de1  >= monto1: \n",
        "        cantidad = cantidad + (de1 - monto1) * 1\n",
        "        de1 = monto1\n",
        "\n",
        "    de025 = int(cantidad / 0.25)\n",
        "    cantidad = cantidad % 0.25\n",
        "    if de025  >= monto025: \n",
        "        cantidad = cantidad + (de025 - monto025) * 0.25\n",
        "        de025 = monto025\n",
        "\n",
        "    de05 = int(cantidad / 0.05)\n",
        "    cantidad = cantidad % 0.05\n",
        "    if de05  >= monto05: \n",
        "        cantidad = cantidad + (de05 - monto05) * 0.05\n",
        "        de05 = monto05\n",
        "\n",
        "    de010 = int(cantidad / 0.10)\n",
        "    cantidad = cantidad % 0.10\n",
        "    if de010 >= monto010: \n",
        "        cantidad = cantidad + (de010 - monto010) * 0.10\n",
        "        de010 = monto010\n",
        "\n",
        "    \n",
        "    if cantidad == 0:\n",
        "      # Así que hacemos efectiva la extracción\n",
        "      monto100 = monto100 - de100\n",
        "      monto50 = monto50 - de50\n",
        "      monto20 = monto20 - de20\n",
        "      monto10 = monto10 - de10\n",
        "      monto5 = monto5 - de5\n",
        "      monto1 = monto1 - de1\n",
        "      monto025 = monto025 - de025\n",
        "      monto05 = monto05 - de05\n",
        "      monto010 = monto010 - de010\n",
        "      \n",
        "      return [de100, de50, de20, de10, de5, de1, de025, de05, de010]\n",
        "\n",
        "    else:\n",
        "      return [0, 0, 0, 0, 0, 0, 0, 0, 0]\n",
        "  else:\n",
        "    return [-1, -1, -1, -1, -1, -1, -1, -1, -1]\n",
        " \n",
        "try:\n",
        "    c = float(input('Cantidad a extraer: '))\n",
        "    resultado = sacar_dinero(c)\n",
        "    if resultado == [0,0,0,0,0,0,0,0,0]:\n",
        "        print ('No hay desglose de billetes para su importe')\n",
        "    elif resultado == [-1,-1,-1,-1,-1,-1,-1,-1,-1]:\n",
        "        print ('No hay suficientes billetes')\n",
        "    else:\n",
        "        print ('Billetes de 100:', resultado[0])\n",
        "        print ('Billetes de 50:', resultado[1])\n",
        "        print ('Billetes de 20:', resultado[2])\n",
        "        print ('Billetes de 10:', resultado[3])\n",
        "        print ('Billetes de 5:', resultado [4])\n",
        "        print ('Billetes de 1:', resultado [5])\n",
        "        print ('Monedas de 0.25:', resultado [6])\n",
        "        print ('Monedas de 0.10:', resultado [7])\n",
        "        print ('Monedas de 0.05:', resultado [8])\n",
        "except:\n",
        "    print ('Importe incorrecto')"
      ]
    }
  ]
}